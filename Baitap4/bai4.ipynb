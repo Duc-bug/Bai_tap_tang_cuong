{
 "cells": [
  {
   "cell_type": "code",
   "execution_count": null,
   "id": "b14fadb8",
   "metadata": {},
   "outputs": [],
   "source": [
    "import numpy as np\n",
    "import matplotlib.pyplot as plt\n",
    "import imageio.v2 as iio\n",
    "import scipy.ndimage as ndi\n",
    "\n",
    "# Đọc ảnh ngôi chùa\n",
    "pagoda = iio.imread(\"chuacat.jpg\")\n",
    "\n",
    "# Phóng to ngôi chùa lên 5 lần\n",
    "pagoda_zoom = ndi.zoom(pagoda, (5, 5, 1), order=1)\n",
    "\n",
    "# Hàm biến đổi hình học \"uốn cong\"\n",
    "def warp_fun(coords):\n",
    "    y, x = coords\n",
    "    # Uốn cong theo trục x bằng hàm sin\n",
    "    offset = 40 * np.sin(2 * np.pi * y / pagoda_zoom.shape[0])\n",
    "    return y, x + offset\n",
    "\n",
    "# Áp dụng biến đổi hình học\n",
    "coords = np.indices(pagoda_zoom.shape[:2])\n",
    "coords_warp = np.array(warp_fun(coords))\n",
    "warped = np.zeros_like(pagoda_zoom)\n",
    "for c in range(pagoda_zoom.shape[2]):\n",
    "    warped[..., c] = ndi.map_coordinates(pagoda_zoom[..., c], coords_warp, order=1, mode='reflect')\n",
    "\n",
    "# Lưu ảnh kết quả\n",
    "iio.imwrite(\"pagoda_warped.jpg\", warped.astype(np.uint8))\n",
    "\n",
    "# Hiển thị ảnh kết quả\n",
    "plt.imshow(warped)\n",
    "plt.axis('off')\n",
    "plt.title(\"Pagoda Warped\")\n",
    "plt.show()"
   ]
  }
 ],
 "metadata": {
  "language_info": {
   "name": "python"
  }
 },
 "nbformat": 4,
 "nbformat_minor": 5
}
