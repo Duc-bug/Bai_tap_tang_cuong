{
 "cells": [
  {
   "cell_type": "code",
   "execution_count": null,
   "id": "2eb760f9",
   "metadata": {},
   "outputs": [],
   "source": [
    "import numpy as np\n",
    "import matplotlib.pyplot as plt\n",
    "import imageio.v2 as iio\n",
    "import scipy.ndimage as ndi\n",
    "\n",
    "# Đọc ảnh núi và thuyền\n",
    "mountain = iio.imread(\"nui.jpg\")\n",
    "boat = iio.imread(\"thuyen.jpg\")\n",
    "\n",
    "# Xoay 45 độ, giữ kích thước ban đầu\n",
    "mountain_rot = ndi.rotate(mountain, 45, reshape=False)\n",
    "boat_rot = ndi.rotate(boat, 45, reshape=False)\n",
    "\n",
    "# Hiệu ứng phản chiếu dọc (vertical mirror)\n",
    "mountain_mirror = np.flipud(mountain_rot)\n",
    "boat_mirror = np.flipud(boat_rot)\n",
    "\n",
    "# Tạo canvas trắng đủ lớn để ghép hai ảnh (nối dọc)\n",
    "h = mountain_rot.shape[0] + boat_rot.shape[0]\n",
    "w = max(mountain_rot.shape[1], boat_rot.shape[1])\n",
    "canvas = np.ones((h, w, 3), dtype=np.uint8) * 255\n",
    "\n",
    "# Ghép ảnh núi và thuyền lên canvas\n",
    "canvas[:mountain_rot.shape[0], :mountain_rot.shape[1]] = mountain_mirror\n",
    "canvas[mountain_rot.shape[0]:mountain_rot.shape[0]+boat_rot.shape[0], :boat_rot.shape[1]] = boat_mirror\n",
    "\n",
    "# Lưu kết quả\n",
    "iio.imwrite(\"mountain_boat_mirror.jpg\", canvas)\n",
    "\n",
    "# Hiển thị kết quả\n",
    "plt.imshow(canvas)\n",
    "plt.axis('off')\n",
    "plt.title(\"Mountain & Boat Vertical Mirror\")\n",
    "plt.show()"
   ]
  }
 ],
 "metadata": {
  "language_info": {
   "name": "python"
  }
 },
 "nbformat": 4,
 "nbformat_minor": 5
}
